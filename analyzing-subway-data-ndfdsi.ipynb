{
 "cells": [
  {
   "cell_type": "markdown",
   "metadata": {},
   "source": [
    "# Subway Data Analysis\n",
    "\n",
    "## Introduction\n",
    "\n",
    "O sistema de ônibus e trens de Nova Iorque - o Metro Transit Authority - [fornece seus dados para download](http://web.mta.info/developers/developer-data-terms.html#data) através de  arquivos CSV. Dentre as informações disponíveis estão os **registros semanais de dados das catracas do metrô**. \n",
    "\n",
    "\n",
    "Estes registros contém contagens cumulativas das entradas e saídas, normalmente agrupadas em períodos de 4 horas, com dados adicionais que permitem identificar a estação e catraca específica correspondente a cada linha do arquivo. Neste projeto iremos utilizar um desses registros, mas não precisa baixar nada agora! O primeiro exercício será escrever um código Python para fazer isso por você :-)\n",
    "\n",
    "\n"
   ]
  },
  {
   "cell_type": "markdown",
   "metadata": {},
   "source": [
    "# Sobre este projeto\n",
    "\n",
    "Neste projeto você irá aplicar todos os conhecimentos adquiridos neste primeiro mês de curso, com tarefas básicas de aquisição e limpeza de dados. No processo iremos descobrir informações essenciais sobre os dados, utilizando o que foi aprendido no curso de estatística. \n",
    "\n",
    "O objetivo deste projeto é explorar a relação entre os dados das catracas do metrô de Nova Iorque e o clima no dia da coleta. Para isso, além dos dados do metrô, precisaremos dos dados de clima da cidade de Nova Iorque. \n",
    "\n",
    "Os principais pontos que serão verificados neste trabalho:\n",
    "\n",
    "- Coleta de dados da internet\n",
    "- Utilização de estatística para análise de dados\n",
    "- Manipulação de dados e criação de gráficos simples com o `Pandas`\n",
    "\n",
    "*Como conseguir ajuda*: Sugerimos que busque apoio nos canais abaixo, na seguinte ordem de prioridade:\n",
    "\n",
    "| Tipo de dúvida\\Canais         \t| Google \t| Fórum \t| Slack \t| Email \t|\n",
    "|-------------------------------\t|--------\t|-------\t|-------\t|-------\t|\n",
    "| Programação Python e Pandas    \t| 1      \t| 2     \t| 3     \t|       \t|\n",
    "| Requisitos do projeto         \t|        \t| 1     \t| 2     \t| 3     \t|\n",
    "| Partes específicas do Projeto \t|        \t| 1     \t| 2     \t| 3     \t|\n",
    "\n",
    "Os endereços dos canais são:\n",
    "\n",
    "- Fórum: https://discussions.udacity.com/c/ndfdsi-project\n",
    "- Slack: [udacity-br.slack.com](https://udacity-br.slack.com/messages/C5MT6E3E1)\n",
    "- Email: data-suporte@udacity.com\n",
    "\n",
    "**Espera-se que o estudante entregue este relatório com:**\n",
    "\n",
    "- Todos os exercícios feitos, com atenção especial para os trechos de código a completar (sinalizados com `# your code here`), pois eles são essenciais para que o código rode corretamente\n",
    "- O arquivo ipynb exportado como HTML\n",
    "\n",
    "Para entregar este projeto envie este `.ipynb` preenchido e o HTML, zipados, na página correspondente da sala de aula."
   ]
  },
  {
   "cell_type": "markdown",
   "metadata": {},
   "source": [
    "# Sobre o dataset\n",
    "\n",
    "Descrição das colunas\n",
    "<pre>\n",
    "C/A,UNIT,SCP,STATION,LINENAME,DIVISION,DATE,TIME,DESC,ENTRIES,EXITS\n",
    "  \n",
    "C/A      = Agrupamento de catracas de que a catraca faz parte (_Control Area_)\n",
    "UNIT     = Cabine de controle associada à estação onde a catraca se encontra (_Remote Unit for a station_)\n",
    "SCP      = Endereço específico da catraca (_Subunit Channel Position_)\n",
    "STATION  = Nome da estação onde a catraca se encontra\n",
    "LINENAME = Código representando todas linhas que passam na estação*\n",
    "DIVISION = Código representando a concessionária original da linha, antes da prefeitura assumir a gestão   \n",
    "DATE     = Representa a data (no formato MM-DD-YY) do evento de auditoria agendado\n",
    "TIME     = Representa o horário (hh:mm:ss) do evento de auditoria agendado\n",
    "DESc     = Descreve o tipo de evento de auditoria registrado:\n",
    "           1. \"REGULAR\" representando um evento de auditoria padrão, em que a contagem é feita a cada 4 horas\n",
    "           2. \"RECOVR AUD\" significa que o valor específico estava perdido, mas foi recuperado posteriormente \n",
    "           3. Diversos códigos sinalizam situações em que auditorias são mais frequentes devido a atividades de\n",
    "              planejamento ou solução de problemas. \n",
    "ENTRIES  = A contagem cumulativa de entradas associadas à catraca desde o último registro\n",
    "EXITS    = A contagem cumulativa de saídas associadas à catraca desde o último registro\n",
    "\n",
    "*  Normalmente as linhas são representadas por um caractere. LINENAME 456NQR significa que os trens 4, 5, 6, N, Q e R passam pela estação.\n",
    "</pre>"
   ]
  },
  {
   "cell_type": "markdown",
   "metadata": {},
   "source": [
    "# Lembretes\n",
    "\n",
    "Antes de começarmos, alguns lembretes devem ter em mente ao usar os notebooks iPython:\n",
    "\n",
    "- Lembre-se de que você pode ver do lado esquerdo de uma célula de código quando foi executado pela última vez se houver um número dentro das chaves.\n",
    "- Quando você inicia uma nova sessão do notebook, certifique-se de executar todas as células até o ponto em que você deixou a última vez. Mesmo que a saída ainda seja visível a partir de quando você executou as células em sua sessão anterior, o kernel começa em um estado novo, então você precisará recarregar os dados, etc. em uma nova sessão.\n",
    "- O ponto anterior é útil para ter em mente se suas respostas não correspondem ao que é esperado nos questionários da aula. Tente recarregar os dados e execute todas as etapas de processamento um a um para garantir que você esteja trabalhando com as mesmas variáveis e dados que estão em cada fase do questionário."
   ]
  },
  {
   "cell_type": "markdown",
   "metadata": {},
   "source": [
    "## Seção 1 - Coleta de Dados\n",
    "\n",
    "### *Exercicio 1.1*\n",
    "\n",
    "Mãos a obra!! Agora é sua vez de coletar os dados. Escreva abaixo um código python que acesse o link http://web.mta.info/developers/turnstile.html e baixe os arquivos do mês de junho de 2017. O arquivo deverá ser salvo com o nome turnstile_170610.txt onde 10/06/17 é a data do arquivo.\n",
    "\n",
    "<blockquote>\n",
    "    <p>Caso o site esteja fora do ar, use essa url:</p>\n",
    "    <p>https://s3.amazonaws.com/video.udacity-data.com/topher/2018/November/5bf32290_turnstile/turnstile.html</p>\n",
    "</blockquote>\n",
    "\n",
    "Abaixo seguem alguns comandos que poderão te ajudar:\n",
    "\n",
    "Utilize a biblioteca **urllib** para abrir e resgatar uma página da web. Utilize o comando abaixo onde **url** será o caminho da página da web onde se encontra o arquivo:\n",
    "\n",
    "```python\n",
    "u = urllib.urlopen(url)\n",
    "html = u.read()\n",
    "```\n",
    "\n",
    "Utilize a biblioteca **BeautifulSoup** para procurar na página pelo link do arquivo que deseja baixar. Utilize o comando abaixo para criar o seu objeto *soup* e procurar por todas as tags 'a'no documento:\n",
    " \n",
    " \n",
    "```python\n",
    "soup = BeautifulSoup(html, \"html.parser\")\n",
    "links = soup.find_all('a')\n",
    "```\n",
    "\n",
    "Uma dica para baixar apenas os arquivos do mês de junho é verificar a data no nome do arquivo. Por exemplo, para baixar o arquivo do dia 17/06/2017 verifique se o link termina com *\"turnstile_170610.txt\"*. Se não fizer isso você baixará todos os arquivos da página. Para fazer isso utilize o comando conforme abaixo:\n",
    "\n",
    "```python\n",
    "if '1706' in link.get('href'):\n",
    "```\n",
    "\n",
    "E a dica final é utilizar o comando abaixo para fazer o download do arquivo txt:\n",
    "\n",
    "```python\n",
    "urllib.urlretrieve(link_do_arquivo, filename)\n",
    "```\n",
    "\n",
    "Lembre-se, primeiro, carregue todos os pacotes e funções que você estará usando em sua análise."
   ]
  },
  {
   "cell_type": "code",
   "execution_count": 1,
   "metadata": {},
   "outputs": [
    {
     "name": "stdout",
     "output_type": "stream",
     "text": [
      "http://web.mta.info/developers/data/nyct/turnstile/turnstile_170624.txt\n",
      "http://web.mta.info/developers/data/nyct/turnstile/turnstile_170617.txt\n",
      "http://web.mta.info/developers/data/nyct/turnstile/turnstile_170610.txt\n",
      "http://web.mta.info/developers/data/nyct/turnstile/turnstile_170603.txt\n"
     ]
    }
   ],
   "source": [
    "import urllib.request\n",
    "from bs4 import BeautifulSoup\n",
    "\n",
    "#your code here\n",
    "u = urllib.request.urlopen('http://web.mta.info/developers/turnstile.html')\n",
    "html = u.read()\n",
    "\n",
    "soup = BeautifulSoup(html, \"html.parser\")\n",
    "links = soup.find_all('a')\n",
    "\n",
    "filenames = []\n",
    "\n",
    "for link in links:\n",
    "    if '1706' in link.get('href', []):\n",
    "        filename = link.get('href', []).split('/')[3]\n",
    "        filenames.append(filename)\n",
    "        print('http://web.mta.info/developers/' + link.get('href'))\n",
    "        urllib.request.urlretrieve('http://web.mta.info/developers/' + link.get('href'), filename)"
   ]
  },
  {
   "cell_type": "markdown",
   "metadata": {},
   "source": [
    "### *Exercicio 1.2*\n",
    "\n",
    "Escreva uma função que pegue a lista de nomes dos arquivos que você baixou no exercicio 1.1 e consolide-os em um único arquivo. Deve existir apenas uma linha de cabeçalho no arquivo de saida. \n",
    "\n",
    "Por exemplo, se o arquivo_1 tiver:\n",
    "linha 1...\n",
    "linha 2...\n",
    "\n",
    "e o outro arquivo, arquivo_2 tiver:\n",
    "linha 3...\n",
    "linha 4...\n",
    "linha 5...\n",
    "\n",
    "Devemos combinar o arquivo_1 com arquivo_2 em um arquivo mestre conforme abaixo:\n",
    "\n",
    "'C/A, UNIT, SCP, DATEn, TIMEn, DESCn, ENTRIESn, EXITSn'\n",
    "linha 1...\n",
    "linha 2...\n",
    "linha 3...\n",
    "linha 4...\n",
    "linha 5...\n",
    "\n",
    "**OBS:** Note que algumas colunas foram descartadas!"
   ]
  },
  {
   "cell_type": "code",
   "execution_count": 2,
   "metadata": {},
   "outputs": [],
   "source": [
    "def create_master_turnstile_file(filenames, output_file):\n",
    "    with open(output_file, 'w') as master_file:\n",
    "        master_file.write('C/A,UNIT,SCP,DATEn,TIMEn,DESCn,ENTRIESn,EXITSn\\n')\n",
    "        for filename in filenames:\n",
    "            # your code here\n",
    "            with open(filename, 'r') as tempFile:\n",
    "                next(tempFile)\n",
    "                for line in tempFile:\n",
    "                    master_file.write(line)"
   ]
  },
  {
   "cell_type": "code",
   "execution_count": 3,
   "metadata": {},
   "outputs": [],
   "source": [
    "create_master_turnstile_file(filenames, 'allData.csv')"
   ]
  },
  {
   "cell_type": "markdown",
   "metadata": {},
   "source": [
    "### *Exercicio 1.3*\n",
    "\n",
    "Neste exercício, escreva um função que leia o master_file criado no exercicio anterior e carregue-o em um pandas dataframe. Esta função deve filtrar para que o dataframe possua apenas linhas onde a coluna \"DESCn\" possua o valor \"Regular\".\n",
    "\n",
    "Por exemplo, se o data frame do pandas estiver conforme abaixo:\n",
    "    \n",
    "    ,C/A,UNIT,SCP,DATEn,TIMEn,DESCn,ENTRIESn,EXITSn\n",
    "    0,A002,R051,02-00-00,05-01-11,00:00:00,REGULAR,3144312,1088151\n",
    "    1,A002,R051,02-00-00,05-01-11,04:00:00,DOOR,3144335,1088159\n",
    "    2,A002,R051,02-00-00,05-01-11,08:00:00,REGULAR,3144353,1088177\n",
    "    3,A002,R051,02-00-00,05-01-11,12:00:00,DOOR,3144424,1088231\n",
    "\n",
    "O dataframe deverá ficar conforme abaixo depois de filtrar apenas as linhas onde a coluna DESCn possua o valor REGULAR:\n",
    "\n",
    "    0,A002,R051,02-00-00,05-01-11,00:00:00,REGULAR,3144312,1088151\n",
    "    2,A002,R051,02-00-00,05-01-11,08:00:00,REGULAR,3144353,1088177\n"
   ]
  },
  {
   "cell_type": "code",
   "execution_count": 4,
   "metadata": {},
   "outputs": [],
   "source": [
    "import pandas as pd\n",
    "\n",
    "def filter_by_regular(filename):\n",
    "    \n",
    "    turnstile_data = pd.read_csv('allData.csv', header=0)\n",
    "    \n",
    "    turnstile_data = turnstile_data[turnstile_data['DESCn']=='REGULAR']\n",
    "    \n",
    "    return turnstile_data"
   ]
  },
  {
   "cell_type": "code",
   "execution_count": 5,
   "metadata": {},
   "outputs": [],
   "source": [
    "data = filter_by_regular('allData.csv')"
   ]
  },
  {
   "cell_type": "markdown",
   "metadata": {},
   "source": [
    "### *Exercicio 1.4*\n",
    "\n",
    "\n",
    "Os dados do metrô de NY possui dados cumulativos de entradas e saidas por linha. Assuma que você possui um dataframe chamado df que contém apenas linhas para uma catraca em particular (unico SCP, C/A, e UNIT). A função abaixo deve alterar essas entradas cumulativas para a contagem de entradas desde a última leitura (entradas desde a última linha do dataframe).\n",
    "\n",
    "Mais especificamente, você deverá fazer duas coisas:\n",
    "\n",
    "1. Criar uma nova coluna chamada ENTRIESn_hourly\n",
    "\n",
    "2. Inserir nessa coluna a diferença entre ENTRIESn da linha atual e a da linha anterior. Se a linha possuir alguma NAN, preencha/substitua por 1.\n",
    "\n",
    "Dica: as funções do pandas shift() e fillna(method ='ffill', inplace = True) pode ser úteis nesse exercicio.\n",
    "\n",
    "Abaixo tem um exemplo de como seu dataframe deve ficar ao final desse exercicio:\n",
    "\n",
    "           C/A  UNIT       SCP     DATEn     TIMEn    DESCn  ENTRIESn    EXITSn  ENTRIESn_hourly\n",
    "    0     A002  R051  02-00-00  05-01-11  00:00:00  REGULAR   3144312   1088151                1\n",
    "    1     A002  R051  02-00-00  05-01-11  04:00:00  REGULAR   3144335   1088159               23\n",
    "    2     A002  R051  02-00-00  05-01-11  08:00:00  REGULAR   3144353   1088177               18\n",
    "    3     A002  R051  02-00-00  05-01-11  12:00:00  REGULAR   3144424   1088231               71\n",
    "    4     A002  R051  02-00-00  05-01-11  16:00:00  REGULAR   3144594   1088275              170\n",
    "    5     A002  R051  02-00-00  05-01-11  20:00:00  REGULAR   3144808   1088317              214\n",
    "    6     A002  R051  02-00-00  05-02-11  00:00:00  REGULAR   3144895   1088328               87\n",
    "    7     A002  R051  02-00-00  05-02-11  04:00:00  REGULAR   3144905   1088331               10\n",
    "    8     A002  R051  02-00-00  05-02-11  08:00:00  REGULAR   3144941   1088420               36\n",
    "    9     A002  R051  02-00-00  05-02-11  12:00:00  REGULAR   3145094   1088753              153\n",
    "    10    A002  R051  02-00-00  05-02-11  16:00:00  REGULAR   3145337   1088823              243"
   ]
  },
  {
   "cell_type": "code",
   "execution_count": 6,
   "metadata": {},
   "outputs": [],
   "source": [
    "import pandas\n",
    "\n",
    "def get_hourly_entries(df):\n",
    "    df['ENTRIESn_hourly'] = df['ENTRIESn'] - df['ENTRIESn'].shift(1) \n",
    "    df['ENTRIESn_hourly'].fillna(1, inplace = True)\n",
    "    \n",
    "    print(df)\n",
    "    #your code here\n",
    "    return df"
   ]
  },
  {
   "cell_type": "code",
   "execution_count": 7,
   "metadata": {},
   "outputs": [
    {
     "name": "stdout",
     "output_type": "stream",
     "text": [
      "                               C/A     UNIT  SCP       DATEn     TIMEn  \\\n",
      "A002  R051 02-00-00          59 ST  NQR456W  BMT  06/17/2017  00:00:00   \n",
      "           02-00-00          59 ST  NQR456W  BMT  06/17/2017  04:00:00   \n",
      "           02-00-00          59 ST  NQR456W  BMT  06/17/2017  08:00:00   \n",
      "           02-00-00          59 ST  NQR456W  BMT  06/17/2017  12:00:00   \n",
      "           02-00-00          59 ST  NQR456W  BMT  06/17/2017  16:00:00   \n",
      "           02-00-00          59 ST  NQR456W  BMT  06/17/2017  20:00:00   \n",
      "           02-00-00          59 ST  NQR456W  BMT  06/18/2017  00:00:00   \n",
      "           02-00-00          59 ST  NQR456W  BMT  06/18/2017  04:00:00   \n",
      "           02-00-00          59 ST  NQR456W  BMT  06/18/2017  08:00:00   \n",
      "           02-00-00          59 ST  NQR456W  BMT  06/18/2017  12:00:00   \n",
      "           02-00-00          59 ST  NQR456W  BMT  06/18/2017  16:00:00   \n",
      "           02-00-00          59 ST  NQR456W  BMT  06/18/2017  20:00:00   \n",
      "           02-00-00          59 ST  NQR456W  BMT  06/19/2017  00:00:00   \n",
      "           02-00-00          59 ST  NQR456W  BMT  06/19/2017  04:00:00   \n",
      "           02-00-00          59 ST  NQR456W  BMT  06/19/2017  08:00:00   \n",
      "           02-00-00          59 ST  NQR456W  BMT  06/19/2017  12:00:00   \n",
      "           02-00-00          59 ST  NQR456W  BMT  06/19/2017  16:00:00   \n",
      "           02-00-00          59 ST  NQR456W  BMT  06/19/2017  20:00:00   \n",
      "           02-00-00          59 ST  NQR456W  BMT  06/20/2017  00:00:00   \n",
      "           02-00-00          59 ST  NQR456W  BMT  06/20/2017  04:00:00   \n",
      "           02-00-00          59 ST  NQR456W  BMT  06/20/2017  08:00:00   \n",
      "           02-00-00          59 ST  NQR456W  BMT  06/20/2017  12:00:00   \n",
      "           02-00-00          59 ST  NQR456W  BMT  06/20/2017  16:00:00   \n",
      "           02-00-00          59 ST  NQR456W  BMT  06/20/2017  20:00:00   \n",
      "           02-00-00          59 ST  NQR456W  BMT  06/21/2017  00:00:00   \n",
      "           02-00-00          59 ST  NQR456W  BMT  06/21/2017  04:00:00   \n",
      "           02-00-00          59 ST  NQR456W  BMT  06/21/2017  08:00:00   \n",
      "           02-00-00          59 ST  NQR456W  BMT  06/21/2017  12:00:00   \n",
      "           02-00-00          59 ST  NQR456W  BMT  06/21/2017  16:00:00   \n",
      "           02-00-00          59 ST  NQR456W  BMT  06/21/2017  20:00:00   \n",
      "...                            ...      ...  ...         ...       ...   \n",
      "TRAM2 R469 00-05-01  RIT-ROOSEVELT        R  RIT  05/29/2017  01:00:00   \n",
      "           00-05-01  RIT-ROOSEVELT        R  RIT  05/29/2017  05:00:00   \n",
      "           00-05-01  RIT-ROOSEVELT        R  RIT  05/29/2017  09:00:00   \n",
      "           00-05-01  RIT-ROOSEVELT        R  RIT  05/29/2017  13:00:00   \n",
      "           00-05-01  RIT-ROOSEVELT        R  RIT  05/29/2017  17:00:00   \n",
      "           00-05-01  RIT-ROOSEVELT        R  RIT  05/29/2017  21:00:00   \n",
      "           00-05-01  RIT-ROOSEVELT        R  RIT  05/30/2017  01:00:00   \n",
      "           00-05-01  RIT-ROOSEVELT        R  RIT  05/30/2017  05:00:00   \n",
      "           00-05-01  RIT-ROOSEVELT        R  RIT  05/30/2017  09:00:00   \n",
      "           00-05-01  RIT-ROOSEVELT        R  RIT  05/30/2017  13:00:00   \n",
      "           00-05-01  RIT-ROOSEVELT        R  RIT  05/30/2017  17:00:00   \n",
      "           00-05-01  RIT-ROOSEVELT        R  RIT  05/30/2017  21:00:00   \n",
      "           00-05-01  RIT-ROOSEVELT        R  RIT  05/31/2017  01:00:00   \n",
      "           00-05-01  RIT-ROOSEVELT        R  RIT  05/31/2017  05:00:00   \n",
      "           00-05-01  RIT-ROOSEVELT        R  RIT  05/31/2017  09:00:00   \n",
      "           00-05-01  RIT-ROOSEVELT        R  RIT  05/31/2017  13:00:00   \n",
      "           00-05-01  RIT-ROOSEVELT        R  RIT  05/31/2017  17:00:00   \n",
      "           00-05-01  RIT-ROOSEVELT        R  RIT  05/31/2017  21:00:00   \n",
      "           00-05-01  RIT-ROOSEVELT        R  RIT  06/01/2017  01:00:00   \n",
      "           00-05-01  RIT-ROOSEVELT        R  RIT  06/01/2017  05:00:00   \n",
      "           00-05-01  RIT-ROOSEVELT        R  RIT  06/01/2017  09:00:00   \n",
      "           00-05-01  RIT-ROOSEVELT        R  RIT  06/01/2017  13:00:00   \n",
      "           00-05-01  RIT-ROOSEVELT        R  RIT  06/01/2017  17:00:00   \n",
      "           00-05-01  RIT-ROOSEVELT        R  RIT  06/01/2017  21:00:00   \n",
      "           00-05-01  RIT-ROOSEVELT        R  RIT  06/02/2017  01:00:00   \n",
      "           00-05-01  RIT-ROOSEVELT        R  RIT  06/02/2017  05:00:00   \n",
      "           00-05-01  RIT-ROOSEVELT        R  RIT  06/02/2017  09:00:00   \n",
      "           00-05-01  RIT-ROOSEVELT        R  RIT  06/02/2017  13:00:00   \n",
      "           00-05-01  RIT-ROOSEVELT        R  RIT  06/02/2017  17:00:00   \n",
      "           00-05-01  RIT-ROOSEVELT        R  RIT  06/02/2017  21:00:00   \n",
      "\n",
      "                       DESCn  ENTRIESn   EXITSn  ENTRIESn_hourly  \n",
      "A002  R051 02-00-00  REGULAR   6224816  2107317              1.0  \n",
      "           02-00-00  REGULAR   6224850  2107322             34.0  \n",
      "           02-00-00  REGULAR   6224885  2107352             35.0  \n",
      "           02-00-00  REGULAR   6225005  2107452            120.0  \n",
      "           02-00-00  REGULAR   6225248  2107513            243.0  \n",
      "           02-00-00  REGULAR   6225548  2107565            300.0  \n",
      "           02-00-00  REGULAR   6225716  2107586            168.0  \n",
      "           02-00-00  REGULAR   6225741  2107590             25.0  \n",
      "           02-00-00  REGULAR   6225762  2107607             21.0  \n",
      "           02-00-00  REGULAR   6225879  2107676            117.0  \n",
      "           02-00-00  REGULAR   6226063  2107714            184.0  \n",
      "           02-00-00  REGULAR   6226295  2107755            232.0  \n",
      "           02-00-00  REGULAR   6226407  2107778            112.0  \n",
      "           02-00-00  REGULAR   6226413  2107779              6.0  \n",
      "           02-00-00  REGULAR   6226460  2107870             47.0  \n",
      "           02-00-00  REGULAR   6226625  2108117            165.0  \n",
      "           02-00-00  REGULAR   6226906  2108190            281.0  \n",
      "           02-00-00  REGULAR   6227611  2108288            705.0  \n",
      "           02-00-00  REGULAR   6227770  2108316            159.0  \n",
      "           02-00-00  REGULAR   6227785  2108321             15.0  \n",
      "           02-00-00  REGULAR   6227837  2108448             52.0  \n",
      "           02-00-00  REGULAR   6228001  2108732            164.0  \n",
      "           02-00-00  REGULAR   6228295  2108798            294.0  \n",
      "           02-00-00  REGULAR   6229118  2108869            823.0  \n",
      "           02-00-00  REGULAR   6229332  2108905            214.0  \n",
      "           02-00-00  REGULAR   6229347  2108906             15.0  \n",
      "           02-00-00  REGULAR   6229394  2109010             47.0  \n",
      "           02-00-00  REGULAR   6229553  2109269            159.0  \n",
      "           02-00-00  REGULAR   6229829  2109341            276.0  \n",
      "           02-00-00  REGULAR   6230582  2109401            753.0  \n",
      "...                      ...       ...      ...              ...  \n",
      "TRAM2 R469 00-05-01  REGULAR      5554      299              0.0  \n",
      "           00-05-01  REGULAR      5554      299              0.0  \n",
      "           00-05-01  REGULAR      5554      299              0.0  \n",
      "           00-05-01  REGULAR      5554      299              0.0  \n",
      "           00-05-01  REGULAR      5554      299              0.0  \n",
      "           00-05-01  REGULAR      5554      299              0.0  \n",
      "           00-05-01  REGULAR      5554      299              0.0  \n",
      "           00-05-01  REGULAR      5554      299              0.0  \n",
      "           00-05-01  REGULAR      5554      299              0.0  \n",
      "           00-05-01  REGULAR      5554      299              0.0  \n",
      "           00-05-01  REGULAR      5554      299              0.0  \n",
      "           00-05-01  REGULAR      5554      299              0.0  \n",
      "           00-05-01  REGULAR      5554      299              0.0  \n",
      "           00-05-01  REGULAR      5554      299              0.0  \n",
      "           00-05-01  REGULAR      5554      299              0.0  \n",
      "           00-05-01  REGULAR      5554      299              0.0  \n",
      "           00-05-01  REGULAR      5554      299              0.0  \n",
      "           00-05-01  REGULAR      5554      299              0.0  \n",
      "           00-05-01  REGULAR      5554      299              0.0  \n",
      "           00-05-01  REGULAR      5554      299              0.0  \n",
      "           00-05-01  REGULAR      5554      299              0.0  \n",
      "           00-05-01  REGULAR      5554      299              0.0  \n",
      "           00-05-01  REGULAR      5554      299              0.0  \n",
      "           00-05-01  REGULAR      5554      299              0.0  \n",
      "           00-05-01  REGULAR      5554      299              0.0  \n",
      "           00-05-01  REGULAR      5554      299              0.0  \n",
      "           00-05-01  REGULAR      5554      299              0.0  \n",
      "           00-05-01  REGULAR      5554      299              0.0  \n",
      "           00-05-01  REGULAR      5554      299              0.0  \n",
      "           00-05-01  REGULAR      5554      299              0.0  \n",
      "\n",
      "[785406 rows x 9 columns]\n"
     ]
    }
   ],
   "source": [
    "data = get_hourly_entries(data)"
   ]
  },
  {
   "cell_type": "markdown",
   "metadata": {},
   "source": [
    "### *Exercicio 1.5*\n",
    "\n",
    "Faça o mesmo do exercicio anterior mas agora considerando as saidas, coluna EXITSn.\n",
    "Para isso crie uma coluna chamada de EXITSn_hourly e insira a diferença entre a coluna EXITSn da linha atual versus a linha anterior. Se tiver algum NaN, preencha/substitua por 0.\n",
    "\n"
   ]
  },
  {
   "cell_type": "code",
   "execution_count": 8,
   "metadata": {},
   "outputs": [],
   "source": [
    "import pandas\n",
    "\n",
    "def get_hourly_exits(df):\n",
    "    df['EXITSn_hourly'] = df['EXITSn'] - df['EXITSn'].shift(1) \n",
    "    df['EXITSn_hourly'].fillna(0, inplace = True)\n",
    "    \n",
    "    print(df)\n",
    "    #your code here\n",
    "    return df"
   ]
  },
  {
   "cell_type": "code",
   "execution_count": 9,
   "metadata": {},
   "outputs": [
    {
     "name": "stdout",
     "output_type": "stream",
     "text": [
      "                               C/A     UNIT  SCP       DATEn     TIMEn  \\\n",
      "A002  R051 02-00-00          59 ST  NQR456W  BMT  06/17/2017  00:00:00   \n",
      "           02-00-00          59 ST  NQR456W  BMT  06/17/2017  04:00:00   \n",
      "           02-00-00          59 ST  NQR456W  BMT  06/17/2017  08:00:00   \n",
      "           02-00-00          59 ST  NQR456W  BMT  06/17/2017  12:00:00   \n",
      "           02-00-00          59 ST  NQR456W  BMT  06/17/2017  16:00:00   \n",
      "           02-00-00          59 ST  NQR456W  BMT  06/17/2017  20:00:00   \n",
      "           02-00-00          59 ST  NQR456W  BMT  06/18/2017  00:00:00   \n",
      "           02-00-00          59 ST  NQR456W  BMT  06/18/2017  04:00:00   \n",
      "           02-00-00          59 ST  NQR456W  BMT  06/18/2017  08:00:00   \n",
      "           02-00-00          59 ST  NQR456W  BMT  06/18/2017  12:00:00   \n",
      "           02-00-00          59 ST  NQR456W  BMT  06/18/2017  16:00:00   \n",
      "           02-00-00          59 ST  NQR456W  BMT  06/18/2017  20:00:00   \n",
      "           02-00-00          59 ST  NQR456W  BMT  06/19/2017  00:00:00   \n",
      "           02-00-00          59 ST  NQR456W  BMT  06/19/2017  04:00:00   \n",
      "           02-00-00          59 ST  NQR456W  BMT  06/19/2017  08:00:00   \n",
      "           02-00-00          59 ST  NQR456W  BMT  06/19/2017  12:00:00   \n",
      "           02-00-00          59 ST  NQR456W  BMT  06/19/2017  16:00:00   \n",
      "           02-00-00          59 ST  NQR456W  BMT  06/19/2017  20:00:00   \n",
      "           02-00-00          59 ST  NQR456W  BMT  06/20/2017  00:00:00   \n",
      "           02-00-00          59 ST  NQR456W  BMT  06/20/2017  04:00:00   \n",
      "           02-00-00          59 ST  NQR456W  BMT  06/20/2017  08:00:00   \n",
      "           02-00-00          59 ST  NQR456W  BMT  06/20/2017  12:00:00   \n",
      "           02-00-00          59 ST  NQR456W  BMT  06/20/2017  16:00:00   \n",
      "           02-00-00          59 ST  NQR456W  BMT  06/20/2017  20:00:00   \n",
      "           02-00-00          59 ST  NQR456W  BMT  06/21/2017  00:00:00   \n",
      "           02-00-00          59 ST  NQR456W  BMT  06/21/2017  04:00:00   \n",
      "           02-00-00          59 ST  NQR456W  BMT  06/21/2017  08:00:00   \n",
      "           02-00-00          59 ST  NQR456W  BMT  06/21/2017  12:00:00   \n",
      "           02-00-00          59 ST  NQR456W  BMT  06/21/2017  16:00:00   \n",
      "           02-00-00          59 ST  NQR456W  BMT  06/21/2017  20:00:00   \n",
      "...                            ...      ...  ...         ...       ...   \n",
      "TRAM2 R469 00-05-01  RIT-ROOSEVELT        R  RIT  05/29/2017  01:00:00   \n",
      "           00-05-01  RIT-ROOSEVELT        R  RIT  05/29/2017  05:00:00   \n",
      "           00-05-01  RIT-ROOSEVELT        R  RIT  05/29/2017  09:00:00   \n",
      "           00-05-01  RIT-ROOSEVELT        R  RIT  05/29/2017  13:00:00   \n",
      "           00-05-01  RIT-ROOSEVELT        R  RIT  05/29/2017  17:00:00   \n",
      "           00-05-01  RIT-ROOSEVELT        R  RIT  05/29/2017  21:00:00   \n",
      "           00-05-01  RIT-ROOSEVELT        R  RIT  05/30/2017  01:00:00   \n",
      "           00-05-01  RIT-ROOSEVELT        R  RIT  05/30/2017  05:00:00   \n",
      "           00-05-01  RIT-ROOSEVELT        R  RIT  05/30/2017  09:00:00   \n",
      "           00-05-01  RIT-ROOSEVELT        R  RIT  05/30/2017  13:00:00   \n",
      "           00-05-01  RIT-ROOSEVELT        R  RIT  05/30/2017  17:00:00   \n",
      "           00-05-01  RIT-ROOSEVELT        R  RIT  05/30/2017  21:00:00   \n",
      "           00-05-01  RIT-ROOSEVELT        R  RIT  05/31/2017  01:00:00   \n",
      "           00-05-01  RIT-ROOSEVELT        R  RIT  05/31/2017  05:00:00   \n",
      "           00-05-01  RIT-ROOSEVELT        R  RIT  05/31/2017  09:00:00   \n",
      "           00-05-01  RIT-ROOSEVELT        R  RIT  05/31/2017  13:00:00   \n",
      "           00-05-01  RIT-ROOSEVELT        R  RIT  05/31/2017  17:00:00   \n",
      "           00-05-01  RIT-ROOSEVELT        R  RIT  05/31/2017  21:00:00   \n",
      "           00-05-01  RIT-ROOSEVELT        R  RIT  06/01/2017  01:00:00   \n",
      "           00-05-01  RIT-ROOSEVELT        R  RIT  06/01/2017  05:00:00   \n",
      "           00-05-01  RIT-ROOSEVELT        R  RIT  06/01/2017  09:00:00   \n",
      "           00-05-01  RIT-ROOSEVELT        R  RIT  06/01/2017  13:00:00   \n",
      "           00-05-01  RIT-ROOSEVELT        R  RIT  06/01/2017  17:00:00   \n",
      "           00-05-01  RIT-ROOSEVELT        R  RIT  06/01/2017  21:00:00   \n",
      "           00-05-01  RIT-ROOSEVELT        R  RIT  06/02/2017  01:00:00   \n",
      "           00-05-01  RIT-ROOSEVELT        R  RIT  06/02/2017  05:00:00   \n",
      "           00-05-01  RIT-ROOSEVELT        R  RIT  06/02/2017  09:00:00   \n",
      "           00-05-01  RIT-ROOSEVELT        R  RIT  06/02/2017  13:00:00   \n",
      "           00-05-01  RIT-ROOSEVELT        R  RIT  06/02/2017  17:00:00   \n",
      "           00-05-01  RIT-ROOSEVELT        R  RIT  06/02/2017  21:00:00   \n",
      "\n",
      "                       DESCn  ENTRIESn   EXITSn  ENTRIESn_hourly  \\\n",
      "A002  R051 02-00-00  REGULAR   6224816  2107317              1.0   \n",
      "           02-00-00  REGULAR   6224850  2107322             34.0   \n",
      "           02-00-00  REGULAR   6224885  2107352             35.0   \n",
      "           02-00-00  REGULAR   6225005  2107452            120.0   \n",
      "           02-00-00  REGULAR   6225248  2107513            243.0   \n",
      "           02-00-00  REGULAR   6225548  2107565            300.0   \n",
      "           02-00-00  REGULAR   6225716  2107586            168.0   \n",
      "           02-00-00  REGULAR   6225741  2107590             25.0   \n",
      "           02-00-00  REGULAR   6225762  2107607             21.0   \n",
      "           02-00-00  REGULAR   6225879  2107676            117.0   \n",
      "           02-00-00  REGULAR   6226063  2107714            184.0   \n",
      "           02-00-00  REGULAR   6226295  2107755            232.0   \n",
      "           02-00-00  REGULAR   6226407  2107778            112.0   \n",
      "           02-00-00  REGULAR   6226413  2107779              6.0   \n",
      "           02-00-00  REGULAR   6226460  2107870             47.0   \n",
      "           02-00-00  REGULAR   6226625  2108117            165.0   \n",
      "           02-00-00  REGULAR   6226906  2108190            281.0   \n",
      "           02-00-00  REGULAR   6227611  2108288            705.0   \n",
      "           02-00-00  REGULAR   6227770  2108316            159.0   \n",
      "           02-00-00  REGULAR   6227785  2108321             15.0   \n",
      "           02-00-00  REGULAR   6227837  2108448             52.0   \n",
      "           02-00-00  REGULAR   6228001  2108732            164.0   \n",
      "           02-00-00  REGULAR   6228295  2108798            294.0   \n",
      "           02-00-00  REGULAR   6229118  2108869            823.0   \n",
      "           02-00-00  REGULAR   6229332  2108905            214.0   \n",
      "           02-00-00  REGULAR   6229347  2108906             15.0   \n",
      "           02-00-00  REGULAR   6229394  2109010             47.0   \n",
      "           02-00-00  REGULAR   6229553  2109269            159.0   \n",
      "           02-00-00  REGULAR   6229829  2109341            276.0   \n",
      "           02-00-00  REGULAR   6230582  2109401            753.0   \n",
      "...                      ...       ...      ...              ...   \n",
      "TRAM2 R469 00-05-01  REGULAR      5554      299              0.0   \n",
      "           00-05-01  REGULAR      5554      299              0.0   \n",
      "           00-05-01  REGULAR      5554      299              0.0   \n",
      "           00-05-01  REGULAR      5554      299              0.0   \n",
      "           00-05-01  REGULAR      5554      299              0.0   \n",
      "           00-05-01  REGULAR      5554      299              0.0   \n",
      "           00-05-01  REGULAR      5554      299              0.0   \n",
      "           00-05-01  REGULAR      5554      299              0.0   \n",
      "           00-05-01  REGULAR      5554      299              0.0   \n",
      "           00-05-01  REGULAR      5554      299              0.0   \n",
      "           00-05-01  REGULAR      5554      299              0.0   \n",
      "           00-05-01  REGULAR      5554      299              0.0   \n",
      "           00-05-01  REGULAR      5554      299              0.0   \n",
      "           00-05-01  REGULAR      5554      299              0.0   \n",
      "           00-05-01  REGULAR      5554      299              0.0   \n",
      "           00-05-01  REGULAR      5554      299              0.0   \n",
      "           00-05-01  REGULAR      5554      299              0.0   \n",
      "           00-05-01  REGULAR      5554      299              0.0   \n",
      "           00-05-01  REGULAR      5554      299              0.0   \n",
      "           00-05-01  REGULAR      5554      299              0.0   \n",
      "           00-05-01  REGULAR      5554      299              0.0   \n",
      "           00-05-01  REGULAR      5554      299              0.0   \n",
      "           00-05-01  REGULAR      5554      299              0.0   \n",
      "           00-05-01  REGULAR      5554      299              0.0   \n",
      "           00-05-01  REGULAR      5554      299              0.0   \n",
      "           00-05-01  REGULAR      5554      299              0.0   \n",
      "           00-05-01  REGULAR      5554      299              0.0   \n",
      "           00-05-01  REGULAR      5554      299              0.0   \n",
      "           00-05-01  REGULAR      5554      299              0.0   \n",
      "           00-05-01  REGULAR      5554      299              0.0   \n",
      "\n",
      "                     EXITSn_hourly  \n",
      "A002  R051 02-00-00            0.0  \n",
      "           02-00-00            5.0  \n",
      "           02-00-00           30.0  \n",
      "           02-00-00          100.0  \n",
      "           02-00-00           61.0  \n",
      "           02-00-00           52.0  \n",
      "           02-00-00           21.0  \n",
      "           02-00-00            4.0  \n",
      "           02-00-00           17.0  \n",
      "           02-00-00           69.0  \n",
      "           02-00-00           38.0  \n",
      "           02-00-00           41.0  \n",
      "           02-00-00           23.0  \n",
      "           02-00-00            1.0  \n",
      "           02-00-00           91.0  \n",
      "           02-00-00          247.0  \n",
      "           02-00-00           73.0  \n",
      "           02-00-00           98.0  \n",
      "           02-00-00           28.0  \n",
      "           02-00-00            5.0  \n",
      "           02-00-00          127.0  \n",
      "           02-00-00          284.0  \n",
      "           02-00-00           66.0  \n",
      "           02-00-00           71.0  \n",
      "           02-00-00           36.0  \n",
      "           02-00-00            1.0  \n",
      "           02-00-00          104.0  \n",
      "           02-00-00          259.0  \n",
      "           02-00-00           72.0  \n",
      "           02-00-00           60.0  \n",
      "...                            ...  \n",
      "TRAM2 R469 00-05-01            0.0  \n",
      "           00-05-01            0.0  \n",
      "           00-05-01            0.0  \n",
      "           00-05-01            0.0  \n",
      "           00-05-01            0.0  \n",
      "           00-05-01            0.0  \n",
      "           00-05-01            0.0  \n",
      "           00-05-01            0.0  \n",
      "           00-05-01            0.0  \n",
      "           00-05-01            0.0  \n",
      "           00-05-01            0.0  \n",
      "           00-05-01            0.0  \n",
      "           00-05-01            0.0  \n",
      "           00-05-01            0.0  \n",
      "           00-05-01            0.0  \n",
      "           00-05-01            0.0  \n",
      "           00-05-01            0.0  \n",
      "           00-05-01            0.0  \n",
      "           00-05-01            0.0  \n",
      "           00-05-01            0.0  \n",
      "           00-05-01            0.0  \n",
      "           00-05-01            0.0  \n",
      "           00-05-01            0.0  \n",
      "           00-05-01            0.0  \n",
      "           00-05-01            0.0  \n",
      "           00-05-01            0.0  \n",
      "           00-05-01            0.0  \n",
      "           00-05-01            0.0  \n",
      "           00-05-01            0.0  \n",
      "           00-05-01            0.0  \n",
      "\n",
      "[785406 rows x 10 columns]\n"
     ]
    }
   ],
   "source": [
    "data = get_hourly_exits(data)"
   ]
  },
  {
   "cell_type": "markdown",
   "metadata": {},
   "source": [
    "### *Exercicio 1.6*\n",
    "\n",
    "Dado uma variável de entrada que representa o tempo no formato de:\n",
    "     \"00:00:00\" (hora: minutos: segundos)\n",
    "    \n",
    "Escreva uma função para extrair a parte da hora do tempo variável de entrada\n",
    "E devolva-o como um número inteiro. Por exemplo:\n",
    "         \n",
    "         1) se a hora for 00, seu código deve retornar 0\n",
    "         2) se a hora for 01, seu código deve retornar 1\n",
    "         3) se a hora for 21, seu código deve retornar 21\n",
    "        \n",
    "Por favor, devolva a hora como um número inteiro.\n"
   ]
  },
  {
   "cell_type": "code",
   "execution_count": 10,
   "metadata": {},
   "outputs": [],
   "source": [
    "def time_to_hour(time):\n",
    "    hour = int(time.split(':')[0])\n",
    "    return hour"
   ]
  },
  {
   "cell_type": "code",
   "execution_count": 11,
   "metadata": {},
   "outputs": [
    {
     "name": "stdout",
     "output_type": "stream",
     "text": [
      "12\n"
     ]
    }
   ],
   "source": [
    "print(time_to_hour(\"12:34:56\"))"
   ]
  },
  {
   "cell_type": "markdown",
   "metadata": {},
   "source": [
    "## Exercicio 2 - Análise dos dados\n",
    "\n",
    "### *Exercicio 2.1*\n",
    "\n",
    "Para verificar a relação entre o movimento do metrô e o clima, precisaremos complementar os dados do arquivo já baixado com os dados do clima.\n",
    "Nós complementamos para você este arquivo com os dados de clima de Nova Iorque  e disponibilizamos na área de materiais do projeto. Você pode acessa-lo pelo link: https://s3.amazonaws.com/content.udacity-data.com/courses/ud359/turnstile_data_master_with_weather.csv\n",
    "\n",
    "Agora que temos nossos dados em um arquivo csv, escreva um código python que leia este arquivo e salve-o em um data frame do pandas. \n",
    "\n",
    "Dica: \n",
    "\n",
    "Utilize o comando abaixo para ler o arquivo:\n",
    "\n",
    "```python\n",
    "pd.read_csv('output_list.txt', sep=\",\")\n",
    "```\n",
    "\n"
   ]
  },
  {
   "cell_type": "code",
   "execution_count": 12,
   "metadata": {},
   "outputs": [
    {
     "data": {
      "text/html": [
       "<div>\n",
       "<style scoped>\n",
       "    .dataframe tbody tr th:only-of-type {\n",
       "        vertical-align: middle;\n",
       "    }\n",
       "\n",
       "    .dataframe tbody tr th {\n",
       "        vertical-align: top;\n",
       "    }\n",
       "\n",
       "    .dataframe thead th {\n",
       "        text-align: right;\n",
       "    }\n",
       "</style>\n",
       "<table border=\"1\" class=\"dataframe\">\n",
       "  <thead>\n",
       "    <tr style=\"text-align: right;\">\n",
       "      <th></th>\n",
       "      <th>Unnamed: 0</th>\n",
       "      <th>UNIT</th>\n",
       "      <th>DATEn</th>\n",
       "      <th>TIMEn</th>\n",
       "      <th>Hour</th>\n",
       "      <th>DESCn</th>\n",
       "      <th>ENTRIESn_hourly</th>\n",
       "      <th>EXITSn_hourly</th>\n",
       "      <th>maxpressurei</th>\n",
       "      <th>maxdewpti</th>\n",
       "      <th>...</th>\n",
       "      <th>meandewpti</th>\n",
       "      <th>meanpressurei</th>\n",
       "      <th>fog</th>\n",
       "      <th>rain</th>\n",
       "      <th>meanwindspdi</th>\n",
       "      <th>mintempi</th>\n",
       "      <th>meantempi</th>\n",
       "      <th>maxtempi</th>\n",
       "      <th>precipi</th>\n",
       "      <th>thunder</th>\n",
       "    </tr>\n",
       "  </thead>\n",
       "  <tbody>\n",
       "    <tr>\n",
       "      <th>0</th>\n",
       "      <td>0</td>\n",
       "      <td>R001</td>\n",
       "      <td>2011-05-01</td>\n",
       "      <td>01:00:00</td>\n",
       "      <td>1</td>\n",
       "      <td>REGULAR</td>\n",
       "      <td>0.0</td>\n",
       "      <td>0.0</td>\n",
       "      <td>30.31</td>\n",
       "      <td>42.0</td>\n",
       "      <td>...</td>\n",
       "      <td>39.0</td>\n",
       "      <td>30.27</td>\n",
       "      <td>0.0</td>\n",
       "      <td>0.0</td>\n",
       "      <td>5.0</td>\n",
       "      <td>50.0</td>\n",
       "      <td>60.0</td>\n",
       "      <td>69.0</td>\n",
       "      <td>0.0</td>\n",
       "      <td>0.0</td>\n",
       "    </tr>\n",
       "    <tr>\n",
       "      <th>1</th>\n",
       "      <td>1</td>\n",
       "      <td>R001</td>\n",
       "      <td>2011-05-01</td>\n",
       "      <td>05:00:00</td>\n",
       "      <td>5</td>\n",
       "      <td>REGULAR</td>\n",
       "      <td>217.0</td>\n",
       "      <td>553.0</td>\n",
       "      <td>30.31</td>\n",
       "      <td>42.0</td>\n",
       "      <td>...</td>\n",
       "      <td>39.0</td>\n",
       "      <td>30.27</td>\n",
       "      <td>0.0</td>\n",
       "      <td>0.0</td>\n",
       "      <td>5.0</td>\n",
       "      <td>50.0</td>\n",
       "      <td>60.0</td>\n",
       "      <td>69.0</td>\n",
       "      <td>0.0</td>\n",
       "      <td>0.0</td>\n",
       "    </tr>\n",
       "    <tr>\n",
       "      <th>2</th>\n",
       "      <td>2</td>\n",
       "      <td>R001</td>\n",
       "      <td>2011-05-01</td>\n",
       "      <td>09:00:00</td>\n",
       "      <td>9</td>\n",
       "      <td>REGULAR</td>\n",
       "      <td>890.0</td>\n",
       "      <td>1262.0</td>\n",
       "      <td>30.31</td>\n",
       "      <td>42.0</td>\n",
       "      <td>...</td>\n",
       "      <td>39.0</td>\n",
       "      <td>30.27</td>\n",
       "      <td>0.0</td>\n",
       "      <td>0.0</td>\n",
       "      <td>5.0</td>\n",
       "      <td>50.0</td>\n",
       "      <td>60.0</td>\n",
       "      <td>69.0</td>\n",
       "      <td>0.0</td>\n",
       "      <td>0.0</td>\n",
       "    </tr>\n",
       "    <tr>\n",
       "      <th>3</th>\n",
       "      <td>3</td>\n",
       "      <td>R001</td>\n",
       "      <td>2011-05-01</td>\n",
       "      <td>13:00:00</td>\n",
       "      <td>13</td>\n",
       "      <td>REGULAR</td>\n",
       "      <td>2451.0</td>\n",
       "      <td>3708.0</td>\n",
       "      <td>30.31</td>\n",
       "      <td>42.0</td>\n",
       "      <td>...</td>\n",
       "      <td>39.0</td>\n",
       "      <td>30.27</td>\n",
       "      <td>0.0</td>\n",
       "      <td>0.0</td>\n",
       "      <td>5.0</td>\n",
       "      <td>50.0</td>\n",
       "      <td>60.0</td>\n",
       "      <td>69.0</td>\n",
       "      <td>0.0</td>\n",
       "      <td>0.0</td>\n",
       "    </tr>\n",
       "    <tr>\n",
       "      <th>4</th>\n",
       "      <td>4</td>\n",
       "      <td>R001</td>\n",
       "      <td>2011-05-01</td>\n",
       "      <td>17:00:00</td>\n",
       "      <td>17</td>\n",
       "      <td>REGULAR</td>\n",
       "      <td>4400.0</td>\n",
       "      <td>2501.0</td>\n",
       "      <td>30.31</td>\n",
       "      <td>42.0</td>\n",
       "      <td>...</td>\n",
       "      <td>39.0</td>\n",
       "      <td>30.27</td>\n",
       "      <td>0.0</td>\n",
       "      <td>0.0</td>\n",
       "      <td>5.0</td>\n",
       "      <td>50.0</td>\n",
       "      <td>60.0</td>\n",
       "      <td>69.0</td>\n",
       "      <td>0.0</td>\n",
       "      <td>0.0</td>\n",
       "    </tr>\n",
       "  </tbody>\n",
       "</table>\n",
       "<p>5 rows × 22 columns</p>\n",
       "</div>"
      ],
      "text/plain": [
       "   Unnamed: 0  UNIT       DATEn     TIMEn  Hour    DESCn  ENTRIESn_hourly  \\\n",
       "0           0  R001  2011-05-01  01:00:00     1  REGULAR              0.0   \n",
       "1           1  R001  2011-05-01  05:00:00     5  REGULAR            217.0   \n",
       "2           2  R001  2011-05-01  09:00:00     9  REGULAR            890.0   \n",
       "3           3  R001  2011-05-01  13:00:00    13  REGULAR           2451.0   \n",
       "4           4  R001  2011-05-01  17:00:00    17  REGULAR           4400.0   \n",
       "\n",
       "   EXITSn_hourly  maxpressurei  maxdewpti   ...     meandewpti  meanpressurei  \\\n",
       "0            0.0         30.31       42.0   ...           39.0          30.27   \n",
       "1          553.0         30.31       42.0   ...           39.0          30.27   \n",
       "2         1262.0         30.31       42.0   ...           39.0          30.27   \n",
       "3         3708.0         30.31       42.0   ...           39.0          30.27   \n",
       "4         2501.0         30.31       42.0   ...           39.0          30.27   \n",
       "\n",
       "   fog  rain  meanwindspdi  mintempi  meantempi  maxtempi  precipi  thunder  \n",
       "0  0.0   0.0           5.0      50.0       60.0      69.0      0.0      0.0  \n",
       "1  0.0   0.0           5.0      50.0       60.0      69.0      0.0      0.0  \n",
       "2  0.0   0.0           5.0      50.0       60.0      69.0      0.0      0.0  \n",
       "3  0.0   0.0           5.0      50.0       60.0      69.0      0.0      0.0  \n",
       "4  0.0   0.0           5.0      50.0       60.0      69.0      0.0      0.0  \n",
       "\n",
       "[5 rows x 22 columns]"
      ]
     },
     "metadata": {},
     "output_type": "display_data"
    }
   ],
   "source": [
    "import pandas as pd\n",
    "\n",
    "filename = \"turnstile_data_master_with_weather.csv\"\n",
    "\n",
    "\n",
    "#your code here\n",
    "data = pd.read_csv(filename, sep=\",\")\n",
    "display(data.head())"
   ]
  },
  {
   "cell_type": "markdown",
   "metadata": {},
   "source": [
    "### *Exercicio 2.2*\n",
    "\n",
    "Agora crie uma função que calcule a quantidade de dias chuvosos, para isso retorne a contagem do numero de dias onde a coluna *\"rain\"* é igual a 1.\n",
    "\n",
    "Dica: Você também pode achar que a interpretação de números como números inteiros ou float pode não\n",
    "     funcionar inicialmente. Para contornar esta questão, pode ser útil converter\n",
    "     esses números para números inteiros. Isso pode ser feito escrevendo cast (coluna como inteiro).\n",
    "     Então, por exemplo, se queríamos lançar a coluna maxtempi como um número inteiro, nós devemos\n",
    "     escrever algo como cast (maxtempi as integer) = 76, em oposição a simplesmente\n",
    "     onde maxtempi = 76."
   ]
  },
  {
   "cell_type": "code",
   "execution_count": 13,
   "metadata": {},
   "outputs": [],
   "source": [
    "\n",
    "def num_rainy_days(df):\n",
    "    #Other solution tryed (same result)\n",
    "    #rainy_dates = []\n",
    "    #for index, row in df.iterrows():\n",
    "    #    if (row['DATEn'] not in rainy_dates) and (row['rain'] >= 0.8):\n",
    "    #        rainy_dates.append(row['DATEn'])\n",
    "    #rainy_days = len(rainy_dates)\n",
    "    \n",
    "    #your code here\n",
    "    rainy_days = len(df[df['rain'] > 0.8].groupby(['DATEn']))\n",
    "    return rainy_days"
   ]
  },
  {
   "cell_type": "code",
   "execution_count": 14,
   "metadata": {},
   "outputs": [
    {
     "data": {
      "text/plain": [
       "10"
      ]
     },
     "execution_count": 14,
     "metadata": {},
     "output_type": "execute_result"
    }
   ],
   "source": [
    "num_rainy_days(data)"
   ]
  },
  {
   "cell_type": "markdown",
   "metadata": {},
   "source": [
    "### *Exercicio 2.3*\n",
    "\n",
    "Calcule se estava nebuloso ou não (0 ou 1) e a temperatura máxima para fog (isto é, a temperatura máxima \n",
    "     para dias nebulosos)."
   ]
  },
  {
   "cell_type": "code",
   "execution_count": 15,
   "metadata": {},
   "outputs": [],
   "source": [
    "def max_temp_aggregate_by_fog(df):\n",
    "    \n",
    "    #your code here \n",
    "    fog_days = df['maxtempi'][df['fog'] > 0.2]\n",
    "    return fog_days.max()"
   ]
  },
  {
   "cell_type": "code",
   "execution_count": 16,
   "metadata": {},
   "outputs": [
    {
     "name": "stdout",
     "output_type": "stream",
     "text": [
      "81.0\n"
     ]
    }
   ],
   "source": [
    "print(max_temp_aggregate_by_fog(data))"
   ]
  },
  {
   "cell_type": "markdown",
   "metadata": {},
   "source": [
    "### *Exercicio 2.4\n",
    "\n",
    "Calcule agora a média de 'meantempi' nos dias que são sábado ou domingo (finais de semana):"
   ]
  },
  {
   "cell_type": "code",
   "execution_count": 17,
   "metadata": {},
   "outputs": [],
   "source": [
    "from datetime import datetime\n",
    "\n",
    "def get_weekday(dateStr):\n",
    "    return datetime.strptime(dateStr, \"%Y-%m-%d\").strftime('%A')\n",
    "\n",
    "def avg_weekend_temperature(df):\n",
    "    df['weekday'] = df['DATEn'].apply(get_weekday)\n",
    "    \n",
    "    weekend_meantempi = df['meantempi'][(df['weekday'] == 'Sunday') | (df['weekday'] == 'Saturday')]\n",
    "    \n",
    "    #display(weekend_meantempi)\n",
    "    \n",
    "    mean_temp_weekends = weekend_meantempi.mean()\n",
    "    \n",
    "    return mean_temp_weekends"
   ]
  },
  {
   "cell_type": "code",
   "execution_count": 18,
   "metadata": {},
   "outputs": [
    {
     "name": "stdout",
     "output_type": "stream",
     "text": [
      "65.10066685403307\n"
     ]
    }
   ],
   "source": [
    "print(avg_weekend_temperature(data))"
   ]
  },
  {
   "cell_type": "markdown",
   "metadata": {},
   "source": [
    "### *Exercicio 2.5\n",
    "\n",
    "Calcule a média da temperatura mínima 'mintempi' nos dias chuvosos onde da temperatura mínima foi maior que do 55 graus:"
   ]
  },
  {
   "cell_type": "code",
   "execution_count": 19,
   "metadata": {},
   "outputs": [],
   "source": [
    "def avg_min_temperature(df):\n",
    "\n",
    "    avg_min_temp_rainy = df['mintempi'][(df['rain'] > 0.2) & (df['mintempi'] > 55)].mean()\n",
    "    \n",
    "    return avg_min_temp_rainy"
   ]
  },
  {
   "cell_type": "code",
   "execution_count": 20,
   "metadata": {},
   "outputs": [
    {
     "data": {
      "text/plain": [
       "61.238860398860396"
      ]
     },
     "metadata": {},
     "output_type": "display_data"
    }
   ],
   "source": [
    "display(avg_min_temperature(data))"
   ]
  },
  {
   "cell_type": "markdown",
   "metadata": {},
   "source": [
    "### *Exercicio 2.6\n",
    "\n",
    "Antes de realizar qualquer análise, pode ser útil olhar para os dados que esperamos analisar. Mais especificamente, vamos examinR as entradas por hora em nossos dados do metrô de Nova York para determinar a distribuição dos dados. Estes dados são armazenados na coluna ['ENTRIESn_hourly'].\n",
    "    \n",
    "Trace dois histogramas nos mesmos eixos para mostrar as entradas quando esta chovendo vs quando não está chovendo. \n",
    "Abaixo está um exemplo sobre como traçar histogramas com pandas e matplotlib:\n",
    "     \n",
    "```python\n",
    "Turnstile_weather ['column_to_graph']. Hist ()\n",
    "```   \n",
    "    "
   ]
  },
  {
   "cell_type": "code",
   "execution_count": 21,
   "metadata": {},
   "outputs": [],
   "source": [
    "import numpy as np\n",
    "import pandas\n",
    "import matplotlib.pyplot as plt\n",
    "\n",
    "# Little plottin help obtained from\n",
    "#https://stackoverflow.com/questions/7744697/how-to-show-two-figures-using-matplotlib\n",
    "#https://mode.com/example-gallery/python_histogram/\n",
    "#https://stackoverflow.com/questions/12125880/changing-default-x-range-in-histogram-matplotlib\n",
    "\n",
    "def entries_histogram(turnstile_weather):\n",
    "    f = plt.figure()\n",
    "    turnstile_weather['ENTRIESn_hourly'][turnstile_weather['rain'] > 0.2].hist(bins=10, grid=False, color='#86bf91', zorder=2, rwidth=0.9, range=[0.0, 3000.0], alpha=0.5) # your code here to plot a historgram for hourly entries when it is raining\n",
    "    turnstile_weather['ENTRIESn_hourly'][turnstile_weather['rain'] <= 0.2].hist(bins=10, grid=False, color='#0000ff', zorder=2, rwidth=0.9, range=[0.0, 3000.0], alpha=0.5) # your code here to plot a histogram for hourly entries when it is not raining\n",
    "    \n",
    "    f.show()"
   ]
  },
  {
   "cell_type": "code",
   "execution_count": 22,
   "metadata": {},
   "outputs": [
    {
     "name": "stderr",
     "output_type": "stream",
     "text": [
      "C:\\Users\\brcon\\Anaconda3\\lib\\site-packages\\matplotlib\\figure.py:445: UserWarning: Matplotlib is currently using module://ipykernel.pylab.backend_inline, which is a non-GUI backend, so cannot show the figure.\n",
      "  % get_backend())\n"
     ]
    },
    {
     "data": {
      "image/png": "[encoded data removed]",
      "text/plain": [
       "<Figure size 432x288 with 1 Axes>"
      ]
     },
     "metadata": {
      "needs_background": "light"
     },
     "output_type": "display_data"
    }
   ],
   "source": [
    "entries_histogram(data)"
   ]
  },
  {
   "cell_type": "markdown",
   "metadata": {},
   "source": [
    "### *Exercicio 2.7\n",
    "\n",
    "Os dados que acabou de plotar que tipo de ditribuição? Existe diferença na distribuição entre dias chuvosos e não chuvosos?"
   ]
  },
  {
   "cell_type": "markdown",
   "metadata": {},
   "source": [
    "** Resposta **: Distribuição assimétrica positiva"
   ]
  },
  {
   "cell_type": "markdown",
   "metadata": {},
   "source": [
    "### *Exercicio 2.8\n",
    "\n",
    "Construa uma função que que retorne:\n",
    "\n",
    "1. A média das entradas com chuva\n",
    "2. A média das entradas sem chuva\n",
    "\n",
    "\n"
   ]
  },
  {
   "cell_type": "code",
   "execution_count": 23,
   "metadata": {},
   "outputs": [],
   "source": [
    "import numpy as np\n",
    "\n",
    "import pandas\n",
    "\n",
    "def means(turnstile_weather):\n",
    "    with_rain_mean = turnstile_weather['ENTRIESn_hourly'][turnstile_weather['rain'] > 0.2].mean()\n",
    "    print(with_rain_mean)\n",
    "    without_rain_mean = turnstile_weather['ENTRIESn_hourly'][turnstile_weather['rain'] <= 0.2].mean()\n",
    "    print(without_rain_mean)\n",
    "    \n",
    "    ### YOUR CODE HERE ###\n",
    "    return with_rain_mean, without_rain_mean, p # leave this line for the grader"
   ]
  },
  {
   "cell_type": "code",
   "execution_count": 24,
   "metadata": {},
   "outputs": [
    {
     "name": "stdout",
     "output_type": "stream",
     "text": [
      "1105.4463767458733\n",
      "1090.278780151855\n"
     ]
    },
    {
     "ename": "NameError",
     "evalue": "name 'p' is not defined",
     "output_type": "error",
     "traceback": [
      "\u001b[1;31m---------------------------------------------------------------------------\u001b[0m",
      "\u001b[1;31mNameError\u001b[0m                                 Traceback (most recent call last)",
      "\u001b[1;32m<ipython-input-24-1b56edf15579>\u001b[0m in \u001b[0;36m<module>\u001b[1;34m\u001b[0m\n\u001b[1;32m----> 1\u001b[1;33m \u001b[0mmeans\u001b[0m\u001b[1;33m(\u001b[0m\u001b[0mdata\u001b[0m\u001b[1;33m)\u001b[0m\u001b[1;33m\u001b[0m\u001b[1;33m\u001b[0m\u001b[0m\n\u001b[0m",
      "\u001b[1;32m<ipython-input-23-afa4b2969436>\u001b[0m in \u001b[0;36mmeans\u001b[1;34m(turnstile_weather)\u001b[0m\n\u001b[0;32m     10\u001b[0m \u001b[1;33m\u001b[0m\u001b[0m\n\u001b[0;32m     11\u001b[0m     \u001b[1;31m### YOUR CODE HERE ###\u001b[0m\u001b[1;33m\u001b[0m\u001b[1;33m\u001b[0m\u001b[1;33m\u001b[0m\u001b[0m\n\u001b[1;32m---> 12\u001b[1;33m     \u001b[1;32mreturn\u001b[0m \u001b[0mwith_rain_mean\u001b[0m\u001b[1;33m,\u001b[0m \u001b[0mwithout_rain_mean\u001b[0m\u001b[1;33m,\u001b[0m \u001b[0mp\u001b[0m \u001b[1;31m# leave this line for the grader\u001b[0m\u001b[1;33m\u001b[0m\u001b[1;33m\u001b[0m\u001b[0m\n\u001b[0m",
      "\u001b[1;31mNameError\u001b[0m: name 'p' is not defined"
     ]
    }
   ],
   "source": [
    "means(data)"
   ]
  },
  {
   "cell_type": "markdown",
   "metadata": {},
   "source": [
    "Responda as perguntas abaixo de acordo com a saida das suas funções:\n",
    "\n",
    "1. Qual a média das entradas com chuva?\n",
    "2. Qual a média das entradas sem chuva?\n"
   ]
  },
  {
   "cell_type": "markdown",
   "metadata": {},
   "source": [
    "** Resposta **: \n",
    "Média com chuva: 1105.4463767458733\n",
    "Média sem chuva: 1090.278780151855"
   ]
  },
  {
   "cell_type": "markdown",
   "metadata": {},
   "source": [
    "## Exercicio 3 - Map Reduce\n",
    "\n",
    "### *Exercicio 3.1*\n",
    "\n",
    "A entrada para esse exercício e o mesmo arquivo da seção anterior (Exercicio 2). Você pode baixar o arquivo neste link:\n",
    "\n",
    " https://s3.amazonaws.com/content.udacity-data.com/courses/ud359/turnstile_data_master_with_weather.csv\n",
    "\n",
    "Varmos criar um mapeador agora. Para cada linha de entrada, a saída do mapeador deve IMPRIMIR (não retornar) a UNIT como uma chave e o número de ENTRIESn_hourly como o valor. Separe a chave e o valor por uma guia. Por exemplo: 'R002 \\ t105105.0'\n",
    "\n",
    "Exporte seu mapeador em um arquivo chamado mapper_result.txt e envie esse arquivo juntamente com a sua submissão. O código para exportar seu mapeador já está escrito no código abaixo.\n",
    "\n",
    "\n"
   ]
  },
  {
   "cell_type": "code",
   "execution_count": 25,
   "metadata": {},
   "outputs": [],
   "source": [
    "import sys\n",
    "\n",
    "def mapper():\n",
    "    for line in sys.stdin:\n",
    "        # your code here\n",
    "        data = line.strip().split(\",\")\n",
    "        _, unit, date, time, hour, desc, entries_hourly, exits_hourly, max_pressure, max_dewpti, min_dewpti, min_pressure, mean_dewpti, mean_pressure, fog, rain, mean_win_ds_pdi, min_temp, mean_temp, max_temp, precip, thunder = data\n",
    "        print(\"{0}\\t{1}\".format(unit, entries_hourly))\n",
    "\n",
    "\n",
    "sys.stdin = open('turnstile_data_master_with_weather.csv')\n",
    "sys.stdout = open('mapper_result.txt', 'w')\n",
    "mapper()"
   ]
  },
  {
   "cell_type": "markdown",
   "metadata": {},
   "source": [
    "### *Exercicio 3.2*\n",
    "\n",
    "Agora crie o redutor. Dado o resultado do mapeador do exercicio anterior, o redutor deve imprimir(Não retornar) uma linha por UNIT, juntamente com o número total de ENTRIESn_hourly.Ao longo de maio (que é a duração dos nossos dados), separados por uma guia. Um exemplo de linha de saída do redutor pode ser assim: 'R001 \\ t500625.0'\n",
    "\n",
    "Você pode assumir que a entrada para o redutor está ordenada de tal forma que todas as linhas correspondentes a uma unidade particular são agrupados. No entanto a saida do redutor terá repetição pois existem lojas que aparecem em locais diferentes dos arquivos.\n",
    "\n",
    "Exporte seu redutor em um arquivo chamado reducer_result.txt e envie esse arquivo juntamente com a sua submissão."
   ]
  },
  {
   "cell_type": "code",
   "execution_count": 26,
   "metadata": {},
   "outputs": [],
   "source": [
    "def reducer():\n",
    "    \n",
    "    oldUnit = None\n",
    "    entries_hourly = 0\n",
    "    \n",
    "    firstLine = True\n",
    "    for line in sys.stdin:\n",
    "        if firstLine:\n",
    "            firstLine = False\n",
    "            continue\n",
    "        \n",
    "        # your code here\n",
    "        data = line.strip().split(\"\\t\")\n",
    "        \n",
    "        if len(data) != 2:\n",
    "            continue\n",
    "            \n",
    "        thisUnit, thisEntries_hourly = data\n",
    "        \n",
    "        if oldUnit and oldUnit != thisUnit:\n",
    "            print(\"{0}\\t{1}\".format(oldUnit, entries_hourly))\n",
    "            entries_hourly = 0\n",
    "        \n",
    "        oldUnit = thisUnit\n",
    "        entries_hourly += float(thisEntries_hourly)\n",
    "\n",
    "sys.stdin = open('mapper_result.txt')\n",
    "sys.stdout = open('reducer_result.txt', 'w')\n",
    "reducer()"
   ]
  }
 ],
 "metadata": {
  "celltoolbar": "Edit Metadata",
  "kernelspec": {
   "display_name": "Python 3",
   "language": "python",
   "name": "python3"
  },
  "language_info": {
   "codemirror_mode": {
    "name": "ipython",
    "version": 3
   },
   "file_extension": ".py",
   "mimetype": "text/x-python",
   "name": "python",
   "nbconvert_exporter": "python",
   "pygments_lexer": "ipython3",
   "version": "3.7.1"
  }
 },
 "nbformat": 4,
 "nbformat_minor": 2
}
